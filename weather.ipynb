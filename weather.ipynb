{
 "cells": [
  {
   "cell_type": "markdown",
   "metadata": {},
   "source": [
    "## Computer Infrastructure  Module (8645: 2024-2025)\n",
    "## Author: Ebelechukwu Chidimma Igwagu\n",
    "## Tasks and Project"
   ]
  },
  {
   "cell_type": "markdown",
   "metadata": {},
   "source": [
    "### Task 1: Create Directory Structure\n",
    "\n",
    "\n",
    "Using the command line, create a directory (that is, a folder) named data at the root of your repository. Inside data, create two subdirectories: timestamps and weather."
   ]
  },
  {
   "cell_type": "markdown",
   "metadata": {},
   "source": [
    "#### Steps involved in completing the task\n",
    "- Logged into my github account\n",
    "- Launched codespaces from my computer infrastructure repository on github\n",
    "- Activated a new terminal on VScode\n",
    "- Used the script command to capture the commands run\n",
    "- used the command line prompt makedirectory to create the data directory and 2 subdirectories timestamps and weather\n",
    "- used tree prompt to display the content of the data directory and all its subdirectories"
   ]
  },
  {
   "cell_type": "markdown",
   "metadata": {},
   "source": [
    "### Command line prompt(s) used and the function in executing the task.\n",
    "\n",
    "``` mkdir - p data/timestamps data/weather ```\n",
    "\n",
    "- *Mkdir*: This command in linux means make directory and it was used to create a directory data with a subdirectory weather in the root of my repository.\n",
    "- *Mkdir -p* The command can take two arguments \n"
   ]
  },
  {
   "cell_type": "code",
   "execution_count": null,
   "metadata": {},
   "outputs": [],
   "source": []
  },
  {
   "cell_type": "markdown",
   "metadata": {},
   "source": [
    "### Snippets of command line prompts used\n",
    "\n",
    "``` Script started on 2024-11-21 03:14:52+00:00 [TERM=\"xterm-256color\" TTY=\"/dev/pts/0\" COLUMNS=\"136\" LINES=\"14\"]\n",
    "\u001b[0;32m@Gtalen \u001b[0m➜ \u001b[1;34m/workspaces/computer_infrastructure \u001b[0;36m(\u001b[1;31mmain\u001b[0;36m) \u001b[0m$ mkdir -p data/timestamps data/weather\n",
    "\u001b[0;32m@Gtalen \u001b[0m➜ \u001b[1;34m/workspaces/computer_infrastructure \u001b[0;36m(\u001b[1;31mmain\u001b[0;36m) \u001b[0m$ ls\n",
    "LICENSE  README.md  crtdir.txt  \u001b[0m\u001b[34;42mdata\u001b[0m  \u001b[34;42mproject\u001b[0m  \u001b[34;42mtasks\u001b[0m\n",
    "\u001b[0;32m@Gtalen \u001b[0m➜ \u001b[1;34m/workspaces/computer_infrastructure \u001b[0;36m(\u001b[1;31mmain\u001b[0;36m) \u001b[0m$ cd data\n",
    "\u001b[0;32m@Gtalen \u001b[0m➜ \u001b[1;34m/workspaces/computer_infrastructure/data \u001b[0;36m(\u001b[1;31mmain\u001b[0;36m) \u001b[0m$ ls\n",
    "\u001b[0m\u001b[34;42mtimestamps\u001b[0m  \u001b[34;42mweather\u001b[0m```"
   ]
  },
  {
   "cell_type": "markdown",
   "metadata": {},
   "source": [
    "### Data directory and its subfolder\n",
    "\n",
    "``` \u001b[0;32m@Gtalen \u001b[0m➜ \u001b[1;34m/workspaces/computer_infrastructure \u001b[0;36m(\u001b[1;31mmain\u001b[0;36m) \u001b[0m$ tree data\n",
    "\u001b[34;42mdata\u001b[00m\n",
    "├── \u001b[34;42mtimestamps\u001b[00m\n",
    "└── \u001b[34;42mweather\u001b[00m\n",
    "\n",
    "2 directories, 0 files\n",
    "\u001b[0;32m@Gtalen \u001b[0m➜ \u001b[1;34m/workspaces/computer_infrastructure \u001b[0;36m(\u001b[1;31mmain\u001b[0;36m) \u001b[0m$ exit\n",
    "exit ```"
   ]
  },
  {
   "cell_type": "markdown",
   "metadata": {},
   "source": [
    "### Task 1 Script\n",
    "The script log file for Task 1 can be viewed [here](https://github.com/Gtalen/computer_infrastructure/blob/main/my_work/log_files/crtdir_log.txt).\n"
   ]
  },
  {
   "cell_type": "markdown",
   "metadata": {},
   "source": [
    "## Task 2: Timestamps\n",
    "Navigate to the data/timestamps directory. Use the date command to output the current date and time, appending the output to a file named now.txt. Make sure to use the >> operator to append (not overwrite) the file. Repeat this step ten times, then use the more command to verify that now.txt has the expected content."
   ]
  },
  {
   "cell_type": "markdown",
   "metadata": {},
   "source": [
    "### Procedure\n",
    "- Navigated to the data/weather folder using the cd command\n",
    "- used the date command for timestamp\n",
    "- Redirect command was used to save the timestamp to a file named now.txt\n",
    "- This was repeated extra nine times and the content of the text file shown with more"
   ]
  },
  {
   "cell_type": "markdown",
   "metadata": {},
   "source": [
    "### Timestamp Command line Snippets\n",
    "- The timestamp log file can be viewed [here]()."
   ]
  },
  {
   "cell_type": "markdown",
   "metadata": {},
   "source": [
    "### Task 3: Formatting Timestamps\n",
    "Run the date command again, but this time format the output using YYYYmmdd_HHMMSS (e.g., 20261114_130003 for 1:00:03 PM on November 14, 2026). Refer to the date man page (using man date) for more formatting options. (Press q to exit the man page). Append the formatted output to a file named formatted.txt."
   ]
  },
  {
   "cell_type": "markdown",
   "metadata": {},
   "source": [
    "### Procedure\n",
    "- Navigated to the data/timestamps folder using the cd command\n",
    "- used the date plus the formatting command for timestamp\n",
    "- This was saved to the file named [formatted.txt](/workspaces/computer_infrastructure/data/timestamps/formatted.txt) using the redirect command\n",
    "- This was repeated extra nine times and the content of the formatted text file swas displayed with the more command"
   ]
  },
  {
   "cell_type": "markdown",
   "metadata": {},
   "source": [
    "### Formatted timestamp Command line Snippets\n",
    "- The formatted date log file can be viewed [here]()."
   ]
  },
  {
   "cell_type": "markdown",
   "metadata": {},
   "source": [
    "## Task 4: Create Timestamped Files\n",
    "Use the touch command to create an empty file with a name in the YYYYmmdd_HHMMSS.txt format. You can achieve this by embedding your date command in backticks ` into the touch command. You should no longer use redirection (>>) in this step."
   ]
  },
  {
   "cell_type": "markdown",
   "metadata": {},
   "source": [
    "### Procedure\n",
    "- Navigated to the data/timestamps folder using the cd command\n",
    "- The touch, date and the formatting command were used for timestamping a file \n",
    "- The date and format were enclosed with an opening and closing backtick\n",
    "- This was saved to the file named [20241126_163826.txt](../data/timestamps/20241126_163826.txt). \n"
   ]
  },
  {
   "cell_type": "markdown",
   "metadata": {},
   "source": [
    "### Empty timestamped Command line Snippets\n",
    "- The timestamped file log can be viewed [here]()."
   ]
  },
  {
   "cell_type": "markdown",
   "metadata": {},
   "source": [
    "## Task 5: Download Today's Weather Data\n",
    "Change to the data/weather directory. Download the latest weather data for the Athenry weather station from Met Eireann using wget. Use the -O <filename> option to save the file as weather.json. The data can be found at this URL:\n",
    "https://prodapi.metweb.ie/observations/athenry/today."
   ]
  },
  {
   "cell_type": "markdown",
   "metadata": {},
   "source": [
    "### Procedure\n",
    "- Navigated to the data/weather folder using the cd command\n",
    "- The web get request (wget) and its output logfile (-O) commands were used to fetch the data from the [URL](https://prodapi.metweb.ie/observations/athenry/today).\n",
    "- This was saved to the file named [weather.json](/workspaces/computer_infrastructure/data/weather/weather.json). \n"
   ]
  },
  {
   "cell_type": "markdown",
   "metadata": {},
   "source": [
    "### Weather data Command line Snippets\n",
    "- The weather data file log can be viewed [here]()."
   ]
  },
  {
   "cell_type": "markdown",
   "metadata": {},
   "source": [
    "## Task 6: Timestamp the Data\n",
    "Modify the command from Task 5 to save the downloaded file with a timestamped name in the format YYYYmmdd_HHMMSS.json."
   ]
  },
  {
   "cell_type": "markdown",
   "metadata": {},
   "source": [
    "### Procedure\n",
    "- Navigated to the data/weather folder using the cd command\n",
    "- The web get request (wget) and its output logfile (-O) commands were used to fetch the data from the [URL](https://prodapi.metweb.ie/observations/athenry/today).\n",
    "- This was saved using the date timestamp command to the file [20241128_111410.json](/workspaces/computer_infrastructure/data/weather/20241128_111410.json). \n"
   ]
  },
  {
   "cell_type": "markdown",
   "metadata": {},
   "source": [
    "### Timestamped weather data Command line Snippets\n",
    "- The timestamped weather data file log can be viewed [here]()."
   ]
  },
  {
   "cell_type": "markdown",
   "metadata": {},
   "source": [
    "## Task 7: Write the Script\n",
    "Write a bash script called weather.sh in the root of your repository. This script should automate the process from Task 6, saving the weather data to the data/weather directory. Make the script executable and test it by running it."
   ]
  },
  {
   "cell_type": "markdown",
   "metadata": {},
   "source": [
    "### Procedure\n",
    "- Used the touch command to create a bash script [weather.sh](/workspaces/computer_infrastructure/weather.sh) in the root of my repository\n",
    "- This file started with a bash script command\n",
    "- Echo command was used to print the defined messages before and after executing the script\n",
    "- The web get request (wget) and its output logfile (-O) commands were used to fetch the data from the [URL](https://prodapi.metweb.ie/observations/athenry/today).\n",
    "- The file was redirected for saving using date timestamp command to the [weather subdirectory](//workspaces/computer_infrastructure/data/weather). \n",
    "- The script was run on the command line using the file location ./weather.sh which displayed permission denied\n",
    "- The property was displayed using the ls -al command\n",
    "- The script permission for the current user was changed by running the change mode, user nd excutable command (chmod u+x ./weather.sh)\n",
    "- The ls -al command was used to display the new permission for the weather.sh script which changed to read, write and executabe for current user\n",
    "- Running the ./weather.sh script now gave the expected outcome creating a new timestamped json file with the defined echo messages displaying on the screen\n"
   ]
  },
  {
   "cell_type": "markdown",
   "metadata": {},
   "source": [
    "### Weather Bash Script Command line Snippets\n",
    "- The weather bash script file log can be viewed [here]()."
   ]
  },
  {
   "cell_type": "markdown",
   "metadata": {},
   "source": []
  },
  {
   "cell_type": "markdown",
   "metadata": {},
   "source": []
  },
  {
   "cell_type": "markdown",
   "metadata": {},
   "source": [
    "## Task 8: Notebook\n",
    "Create a notebook called weather.ipynb at the root of your repository. In this notebook, write a brief report explaining how you completed Tasks 1 to 7. Provide short descriptions of the commands used in each task and explain their role in completing the tasks"
   ]
  },
  {
   "cell_type": "markdown",
   "metadata": {},
   "source": [
    "# Project (40%)\n",
    "In this project, you will automate your weather.sh script to run daily and push the new data to your repository. The following steps will create the necessary GitHub Actions workflow.\n",
    "\n",
    "Create a GitHub Actions Workflow: In your repository, create a folder called .github/workflows/ (if it doesn't already exist). Inside this folder, create a file called weather-data.yml. This file will define the GitHub Actions workflow.\n",
    "\n",
    "Run Daily at 10am: Use the schedule event with cron to set the script to run once a day at 10am. Include also the workflow_dispatch event so you can test the workflow.\n",
    "\n",
    "Use a Linux Virtual Machine In the workflow file, specify that a Ubuntu virtual machine should be used to run the action.\n",
    "\n",
    "Clone the Repository Have the workflow clone your repository.\n",
    "\n",
    "Execute the weather.sh Script Add a step that runs your weather.sh script.\n",
    "\n",
    "Commit and Push Changes Back to the Repository Finally, configure the workflow to commit the new weather data and push those changes back to your repository.\n",
    "\n",
    "Test the Workflow Commit and push the workflow to your repository. Check the logs in GitHub to ensure that the weather.sh script runs correctly, that new data is being committed."
   ]
  },
  {
   "cell_type": "markdown",
   "metadata": {},
   "source": [
    "## Procedure\n",
    "\n",
    "- I created a directory .github with as ubdirectory workflows\n",
    "- i created a file weather_data.yml which contains the github actions workflow\n",
    "- The github actions yml file was enerated with the aid of chat gpt 4.0 detailed prompting\n",
    "- The first execution of the gitaction returned a run error code due to permission restrictions\n",
    "- The yml script was modified to include a gittoken and a read and write permission settings adjustment made on github\n",
    "\n"
   ]
  },
  {
   "cell_type": "markdown",
   "metadata": {},
   "source": [
    "## Analysis of the Weather json file downloaded from met eirean"
   ]
  },
  {
   "cell_type": "code",
   "execution_count": 4,
   "metadata": {},
   "outputs": [],
   "source": [
    "# importing dependencies\n",
    "\n",
    "import pandas as pd\n",
    "import matplotlib.pyplot as plt\n",
    "import matplotlib.dates as mdates\n",
    "import seaborn as sns\n",
    "from datetime import datetime\n",
    "import warnings    # importing python warning module\n",
    "sns.set_theme()            #setting seaborn as default style for plots when using matplotlib"
   ]
  },
  {
   "cell_type": "code",
   "execution_count": 5,
   "metadata": {},
   "outputs": [],
   "source": [
    "# Read the data.\n",
    "\n",
    "filepath = r\"C:\\Users\\great\\Desktop\\ATU\\Semester 2\\computer_infrastructure\\data\\weather\\20241210_153004.json\"\n",
    "df = pd.read_json(filepath)"
   ]
  },
  {
   "cell_type": "code",
   "execution_count": 9,
   "metadata": {},
   "outputs": [
    {
     "data": {
      "text/html": [
       "<div>\n",
       "<style scoped>\n",
       "    .dataframe tbody tr th:only-of-type {\n",
       "        vertical-align: middle;\n",
       "    }\n",
       "\n",
       "    .dataframe tbody tr th {\n",
       "        vertical-align: top;\n",
       "    }\n",
       "\n",
       "    .dataframe thead th {\n",
       "        text-align: right;\n",
       "    }\n",
       "</style>\n",
       "<table border=\"1\" class=\"dataframe\">\n",
       "  <thead>\n",
       "    <tr style=\"text-align: right;\">\n",
       "      <th></th>\n",
       "      <th>name</th>\n",
       "      <th>temperature</th>\n",
       "      <th>symbol</th>\n",
       "      <th>weatherDescription</th>\n",
       "      <th>text</th>\n",
       "      <th>windSpeed</th>\n",
       "      <th>windGust</th>\n",
       "      <th>cardinalWindDirection</th>\n",
       "      <th>windDirection</th>\n",
       "      <th>humidity</th>\n",
       "      <th>rainfall</th>\n",
       "      <th>pressure</th>\n",
       "      <th>dayName</th>\n",
       "      <th>date</th>\n",
       "      <th>reportTime</th>\n",
       "    </tr>\n",
       "  </thead>\n",
       "  <tbody>\n",
       "    <tr>\n",
       "      <th>0</th>\n",
       "      <td>Athenry</td>\n",
       "      <td>1</td>\n",
       "      <td>02n</td>\n",
       "      <td>Fair</td>\n",
       "      <td>\"Fair\"</td>\n",
       "      <td>9</td>\n",
       "      <td>-</td>\n",
       "      <td>NE</td>\n",
       "      <td>45</td>\n",
       "      <td>89</td>\n",
       "      <td>0</td>\n",
       "      <td>1042</td>\n",
       "      <td>Tuesday</td>\n",
       "      <td>2024-10-12</td>\n",
       "      <td>00:00</td>\n",
       "    </tr>\n",
       "    <tr>\n",
       "      <th>1</th>\n",
       "      <td>Athenry</td>\n",
       "      <td>1</td>\n",
       "      <td>04n</td>\n",
       "      <td>Cloudy</td>\n",
       "      <td>\"Cloudy\"</td>\n",
       "      <td>7</td>\n",
       "      <td>-</td>\n",
       "      <td>NE</td>\n",
       "      <td>45</td>\n",
       "      <td>87</td>\n",
       "      <td>0</td>\n",
       "      <td>1042</td>\n",
       "      <td>Tuesday</td>\n",
       "      <td>2024-10-12</td>\n",
       "      <td>01:00</td>\n",
       "    </tr>\n",
       "    <tr>\n",
       "      <th>2</th>\n",
       "      <td>Athenry</td>\n",
       "      <td>2</td>\n",
       "      <td>02n</td>\n",
       "      <td>Fair</td>\n",
       "      <td>\"Fair\"</td>\n",
       "      <td>15</td>\n",
       "      <td>-</td>\n",
       "      <td>E</td>\n",
       "      <td>90</td>\n",
       "      <td>87</td>\n",
       "      <td>0</td>\n",
       "      <td>1041</td>\n",
       "      <td>Tuesday</td>\n",
       "      <td>2024-10-12</td>\n",
       "      <td>02:00</td>\n",
       "    </tr>\n",
       "    <tr>\n",
       "      <th>3</th>\n",
       "      <td>Athenry</td>\n",
       "      <td>-1</td>\n",
       "      <td>02n</td>\n",
       "      <td>Fair</td>\n",
       "      <td>\"Fair\"</td>\n",
       "      <td>2</td>\n",
       "      <td>-</td>\n",
       "      <td>NW</td>\n",
       "      <td>315</td>\n",
       "      <td>92</td>\n",
       "      <td>0</td>\n",
       "      <td>1041</td>\n",
       "      <td>Tuesday</td>\n",
       "      <td>2024-10-12</td>\n",
       "      <td>03:00</td>\n",
       "    </tr>\n",
       "    <tr>\n",
       "      <th>4</th>\n",
       "      <td>Athenry</td>\n",
       "      <td>-3</td>\n",
       "      <td>02n</td>\n",
       "      <td>Fair</td>\n",
       "      <td>\"Fair\"</td>\n",
       "      <td>2</td>\n",
       "      <td>-</td>\n",
       "      <td>S</td>\n",
       "      <td>180</td>\n",
       "      <td>93</td>\n",
       "      <td>0</td>\n",
       "      <td>1041</td>\n",
       "      <td>Tuesday</td>\n",
       "      <td>2024-10-12</td>\n",
       "      <td>04:00</td>\n",
       "    </tr>\n",
       "  </tbody>\n",
       "</table>\n",
       "</div>"
      ],
      "text/plain": [
       "      name  temperature symbol weatherDescription      text  windSpeed  \\\n",
       "0  Athenry            1    02n               Fair    \"Fair\"          9   \n",
       "1  Athenry            1    04n             Cloudy  \"Cloudy\"          7   \n",
       "2  Athenry            2    02n               Fair    \"Fair\"         15   \n",
       "3  Athenry           -1    02n               Fair    \"Fair\"          2   \n",
       "4  Athenry           -3    02n               Fair    \"Fair\"          2   \n",
       "\n",
       "  windGust cardinalWindDirection  windDirection  humidity  rainfall  pressure  \\\n",
       "0        -                    NE             45        89         0      1042   \n",
       "1        -                    NE             45        87         0      1042   \n",
       "2        -                     E             90        87         0      1041   \n",
       "3        -                    NW            315        92         0      1041   \n",
       "4        -                     S            180        93         0      1041   \n",
       "\n",
       "   dayName       date reportTime  \n",
       "0  Tuesday 2024-10-12      00:00  \n",
       "1  Tuesday 2024-10-12      01:00  \n",
       "2  Tuesday 2024-10-12      02:00  \n",
       "3  Tuesday 2024-10-12      03:00  \n",
       "4  Tuesday 2024-10-12      04:00  "
      ]
     },
     "execution_count": 9,
     "metadata": {},
     "output_type": "execute_result"
    }
   ],
   "source": [
    "df.head(5)"
   ]
  },
  {
   "cell_type": "code",
   "execution_count": 8,
   "metadata": {},
   "outputs": [
    {
     "name": "stdout",
     "output_type": "stream",
     "text": [
      "<class 'pandas.core.frame.DataFrame'>\n",
      "RangeIndex: 16 entries, 0 to 15\n",
      "Data columns (total 15 columns):\n",
      " #   Column                 Non-Null Count  Dtype         \n",
      "---  ------                 --------------  -----         \n",
      " 0   name                   16 non-null     object        \n",
      " 1   temperature            16 non-null     int64         \n",
      " 2   symbol                 16 non-null     object        \n",
      " 3   weatherDescription     16 non-null     object        \n",
      " 4   text                   16 non-null     object        \n",
      " 5   windSpeed              16 non-null     int64         \n",
      " 6   windGust               16 non-null     object        \n",
      " 7   cardinalWindDirection  16 non-null     object        \n",
      " 8   windDirection          16 non-null     int64         \n",
      " 9   humidity               16 non-null     int64         \n",
      " 10  rainfall               16 non-null     int64         \n",
      " 11  pressure               16 non-null     int64         \n",
      " 12  dayName                16 non-null     object        \n",
      " 13  date                   16 non-null     datetime64[ns]\n",
      " 14  reportTime             16 non-null     object        \n",
      "dtypes: datetime64[ns](1), int64(6), object(8)\n",
      "memory usage: 2.0+ KB\n"
     ]
    }
   ],
   "source": [
    "df.info()"
   ]
  },
  {
   "cell_type": "code",
   "execution_count": 7,
   "metadata": {},
   "outputs": [
    {
     "data": {
      "text/html": [
       "<div>\n",
       "<style scoped>\n",
       "    .dataframe tbody tr th:only-of-type {\n",
       "        vertical-align: middle;\n",
       "    }\n",
       "\n",
       "    .dataframe tbody tr th {\n",
       "        vertical-align: top;\n",
       "    }\n",
       "\n",
       "    .dataframe thead th {\n",
       "        text-align: right;\n",
       "    }\n",
       "</style>\n",
       "<table border=\"1\" class=\"dataframe\">\n",
       "  <thead>\n",
       "    <tr style=\"text-align: right;\">\n",
       "      <th></th>\n",
       "      <th>temperature</th>\n",
       "      <th>windSpeed</th>\n",
       "      <th>windDirection</th>\n",
       "      <th>humidity</th>\n",
       "      <th>rainfall</th>\n",
       "      <th>pressure</th>\n",
       "      <th>date</th>\n",
       "    </tr>\n",
       "  </thead>\n",
       "  <tbody>\n",
       "    <tr>\n",
       "      <th>count</th>\n",
       "      <td>16.000000</td>\n",
       "      <td>16.000000</td>\n",
       "      <td>16.0000</td>\n",
       "      <td>16.00000</td>\n",
       "      <td>16.0</td>\n",
       "      <td>16.000000</td>\n",
       "      <td>16</td>\n",
       "    </tr>\n",
       "    <tr>\n",
       "      <th>mean</th>\n",
       "      <td>-0.187500</td>\n",
       "      <td>5.750000</td>\n",
       "      <td>64.6875</td>\n",
       "      <td>90.50000</td>\n",
       "      <td>0.0</td>\n",
       "      <td>1040.625000</td>\n",
       "      <td>2024-10-12 00:00:00</td>\n",
       "    </tr>\n",
       "    <tr>\n",
       "      <th>min</th>\n",
       "      <td>-5.000000</td>\n",
       "      <td>2.000000</td>\n",
       "      <td>0.0000</td>\n",
       "      <td>82.00000</td>\n",
       "      <td>0.0</td>\n",
       "      <td>1039.000000</td>\n",
       "      <td>2024-10-12 00:00:00</td>\n",
       "    </tr>\n",
       "    <tr>\n",
       "      <th>25%</th>\n",
       "      <td>-3.000000</td>\n",
       "      <td>3.500000</td>\n",
       "      <td>45.0000</td>\n",
       "      <td>87.00000</td>\n",
       "      <td>0.0</td>\n",
       "      <td>1040.000000</td>\n",
       "      <td>2024-10-12 00:00:00</td>\n",
       "    </tr>\n",
       "    <tr>\n",
       "      <th>50%</th>\n",
       "      <td>0.000000</td>\n",
       "      <td>6.000000</td>\n",
       "      <td>45.0000</td>\n",
       "      <td>92.00000</td>\n",
       "      <td>0.0</td>\n",
       "      <td>1041.000000</td>\n",
       "      <td>2024-10-12 00:00:00</td>\n",
       "    </tr>\n",
       "    <tr>\n",
       "      <th>75%</th>\n",
       "      <td>2.250000</td>\n",
       "      <td>7.000000</td>\n",
       "      <td>45.0000</td>\n",
       "      <td>94.25000</td>\n",
       "      <td>0.0</td>\n",
       "      <td>1041.000000</td>\n",
       "      <td>2024-10-12 00:00:00</td>\n",
       "    </tr>\n",
       "    <tr>\n",
       "      <th>max</th>\n",
       "      <td>5.000000</td>\n",
       "      <td>15.000000</td>\n",
       "      <td>315.0000</td>\n",
       "      <td>97.00000</td>\n",
       "      <td>0.0</td>\n",
       "      <td>1042.000000</td>\n",
       "      <td>2024-10-12 00:00:00</td>\n",
       "    </tr>\n",
       "    <tr>\n",
       "      <th>std</th>\n",
       "      <td>3.370831</td>\n",
       "      <td>3.316625</td>\n",
       "      <td>78.7500</td>\n",
       "      <td>4.97996</td>\n",
       "      <td>0.0</td>\n",
       "      <td>0.885061</td>\n",
       "      <td>NaN</td>\n",
       "    </tr>\n",
       "  </tbody>\n",
       "</table>\n",
       "</div>"
      ],
      "text/plain": [
       "       temperature  windSpeed  windDirection  humidity  rainfall     pressure  \\\n",
       "count    16.000000  16.000000        16.0000  16.00000      16.0    16.000000   \n",
       "mean     -0.187500   5.750000        64.6875  90.50000       0.0  1040.625000   \n",
       "min      -5.000000   2.000000         0.0000  82.00000       0.0  1039.000000   \n",
       "25%      -3.000000   3.500000        45.0000  87.00000       0.0  1040.000000   \n",
       "50%       0.000000   6.000000        45.0000  92.00000       0.0  1041.000000   \n",
       "75%       2.250000   7.000000        45.0000  94.25000       0.0  1041.000000   \n",
       "max       5.000000  15.000000       315.0000  97.00000       0.0  1042.000000   \n",
       "std       3.370831   3.316625        78.7500   4.97996       0.0     0.885061   \n",
       "\n",
       "                      date  \n",
       "count                   16  \n",
       "mean   2024-10-12 00:00:00  \n",
       "min    2024-10-12 00:00:00  \n",
       "25%    2024-10-12 00:00:00  \n",
       "50%    2024-10-12 00:00:00  \n",
       "75%    2024-10-12 00:00:00  \n",
       "max    2024-10-12 00:00:00  \n",
       "std                    NaN  "
      ]
     },
     "execution_count": 7,
     "metadata": {},
     "output_type": "execute_result"
    }
   ],
   "source": [
    "df.describe()"
   ]
  },
  {
   "cell_type": "markdown",
   "metadata": {},
   "source": []
  },
  {
   "cell_type": "markdown",
   "metadata": {},
   "source": []
  },
  {
   "cell_type": "markdown",
   "metadata": {},
   "source": []
  },
  {
   "cell_type": "markdown",
   "metadata": {},
   "source": [
    "## References\n",
    "- https://docs.github.com/en/actions/writing-workflows/quickstart\n",
    "- https://data.gov.ie/dataset/todays-weather-athenry"
   ]
  }
 ],
 "metadata": {
  "kernelspec": {
   "display_name": "Python 3",
   "language": "python",
   "name": "python3"
  },
  "language_info": {
   "codemirror_mode": {
    "name": "ipython",
    "version": 3
   },
   "file_extension": ".py",
   "mimetype": "text/x-python",
   "name": "python",
   "nbconvert_exporter": "python",
   "pygments_lexer": "ipython3",
   "version": "3.11.5"
  }
 },
 "nbformat": 4,
 "nbformat_minor": 2
}
