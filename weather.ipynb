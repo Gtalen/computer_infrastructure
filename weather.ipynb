{
 "cells": [
  {
   "cell_type": "markdown",
   "metadata": {},
   "source": [
    "# Computer Infrastructcture Tasks\n",
    "## Author: Ebelechukwu Chidimma Igwagu"
   ]
  },
  {
   "cell_type": "markdown",
   "metadata": {},
   "source": [
    "## Task 1: Create Directory Structure\n",
    "\n",
    "\n",
    "Using the command line, create a directory (that is, a folder) named data at the root of your repository. Inside data, create two subdirectories: timestamps and weather."
   ]
  },
  {
   "cell_type": "markdown",
   "metadata": {},
   "source": [
    "### Procedural steps\n",
    "- Logged into my github account\n",
    "- Launched codespaces from my computer infrastructure repository on github\n",
    "- Activated a new terminal on VScode\n",
    "- Used the script command to capture the commands run\n",
    "- used the command line prompt makedirectory to create the data directory and 2 subdirectories timestamps and weather\n",
    "- used tree prompt to display the data directory and all its subdirectories"
   ]
  },
  {
   "cell_type": "markdown",
   "metadata": {},
   "source": [
    "### Command line prompt for creating directory \n",
    "\n",
    "``` mkdir - p data/timestamps data/weather ```\n"
   ]
  },
  {
   "cell_type": "markdown",
   "metadata": {},
   "source": [
    "### Snippets of command line prompts used\n",
    "\n",
    "``` Script started on 2024-11-21 03:14:52+00:00 [TERM=\"xterm-256color\" TTY=\"/dev/pts/0\" COLUMNS=\"136\" LINES=\"14\"]\n",
    "\u001b[0;32m@Gtalen \u001b[0m➜ \u001b[1;34m/workspaces/computer_infrastructure \u001b[0;36m(\u001b[1;31mmain\u001b[0;36m) \u001b[0m$ mkdir -p data/timestamps data/weather\n",
    "\u001b[0;32m@Gtalen \u001b[0m➜ \u001b[1;34m/workspaces/computer_infrastructure \u001b[0;36m(\u001b[1;31mmain\u001b[0;36m) \u001b[0m$ ls\n",
    "LICENSE  README.md  crtdir.txt  \u001b[0m\u001b[34;42mdata\u001b[0m  \u001b[34;42mproject\u001b[0m  \u001b[34;42mtasks\u001b[0m\n",
    "\u001b[0;32m@Gtalen \u001b[0m➜ \u001b[1;34m/workspaces/computer_infrastructure \u001b[0;36m(\u001b[1;31mmain\u001b[0;36m) \u001b[0m$ cd data\n",
    "\u001b[0;32m@Gtalen \u001b[0m➜ \u001b[1;34m/workspaces/computer_infrastructure/data \u001b[0;36m(\u001b[1;31mmain\u001b[0;36m) \u001b[0m$ ls\n",
    "\u001b[0m\u001b[34;42mtimestamps\u001b[0m  \u001b[34;42mweather\u001b[0m```"
   ]
  },
  {
   "cell_type": "markdown",
   "metadata": {},
   "source": [
    "### Data directory and its subfolder\n",
    "\n",
    "``` \u001b[0;32m@Gtalen \u001b[0m➜ \u001b[1;34m/workspaces/computer_infrastructure \u001b[0;36m(\u001b[1;31mmain\u001b[0;36m) \u001b[0m$ tree data\n",
    "\u001b[34;42mdata\u001b[00m\n",
    "├── \u001b[34;42mtimestamps\u001b[00m\n",
    "└── \u001b[34;42mweather\u001b[00m\n",
    "\n",
    "2 directories, 0 files\n",
    "\u001b[0;32m@Gtalen \u001b[0m➜ \u001b[1;34m/workspaces/computer_infrastructure \u001b[0;36m(\u001b[1;31mmain\u001b[0;36m) \u001b[0m$ exit\n",
    "exit ```"
   ]
  },
  {
   "cell_type": "markdown",
   "metadata": {},
   "source": [
    "### Task 1 Script\n",
    "The script log file for Task 1 can be viewed [here](https://glorious-space-engine-jrrvj9x5gvjfp796.github.dev/).\n"
   ]
  },
  {
   "cell_type": "markdown",
   "metadata": {},
   "source": [
    "## Task 2: Timestamps\n",
    "Navigate to the data/timestamps directory. Use the date command to output the current date and time, appending the output to a file named now.txt. Make sure to use the >> operator to append (not overwrite) the file. Repeat this step ten times, then use the more command to verify that now.txt has the expected content."
   ]
  },
  {
   "cell_type": "markdown",
   "metadata": {},
   "source": [
    "### Procedure\n",
    "- Navigated to the data/weather folder using the cd command\n",
    "- used the date command for timestamp\n",
    "- Redirect command was used to save the timestamp to a file named now.txt\n",
    "- This was repeated extra nine times and the content of the text file shown with more"
   ]
  },
  {
   "cell_type": "markdown",
   "metadata": {},
   "source": [
    "### Timestamp Command line Snippets\n",
    "- The timestamp log file can be viewed [here]()."
   ]
  },
  {
   "cell_type": "markdown",
   "metadata": {},
   "source": [
    "### Task 3: Formatting Timestamps\n",
    "Run the date command again, but this time format the output using YYYYmmdd_HHMMSS (e.g., 20261114_130003 for 1:00:03 PM on November 14, 2026). Refer to the date man page (using man date) for more formatting options. (Press q to exit the man page). Append the formatted output to a file named formatted.txt."
   ]
  },
  {
   "cell_type": "markdown",
   "metadata": {},
   "source": [
    "### Procedure\n",
    "- Navigated to the data/timestamps folder using the cd command\n",
    "- used the date plus the formatting command for timestamp\n",
    "- This was saved to the file named [formatted.txt](/workspaces/computer_infrastructure/data/timestamps/formatted.txt) using the redirect command\n",
    "- This was repeated extra nine times and the content of the formatted text file swas displayed with the more command"
   ]
  },
  {
   "cell_type": "markdown",
   "metadata": {},
   "source": [
    "### Formatted timestamp Command line Snippets\n",
    "- The formatted date log file can be viewed [here]()."
   ]
  },
  {
   "cell_type": "markdown",
   "metadata": {},
   "source": [
    "## Task 4: Create Timestamped Files\n",
    "Use the touch command to create an empty file with a name in the YYYYmmdd_HHMMSS.txt format. You can achieve this by embedding your date command in backticks ` into the touch command. You should no longer use redirection (>>) in this step."
   ]
  },
  {
   "cell_type": "markdown",
   "metadata": {},
   "source": [
    "### Procedure\n",
    "- Navigated to the data/timestamps folder using the cd command\n",
    "- The touch, date and the formatting command were used for timestamping a file \n",
    "- The date and format were enclosed with an opening and closing backtick\n",
    "- This was saved to the file named [20241126_163826.txt](../data/timestamps/20241126_163826.txt). \n"
   ]
  },
  {
   "cell_type": "markdown",
   "metadata": {},
   "source": [
    "### Empty timestamped Command line Snippets\n",
    "- The timestamped file log can be viewed [here]()."
   ]
  },
  {
   "cell_type": "markdown",
   "metadata": {},
   "source": [
    "## Task 5: Download Today's Weather Data\n",
    "Change to the data/weather directory. Download the latest weather data for the Athenry weather station from Met Eireann using wget. Use the -O <filename> option to save the file as weather.json. The data can be found at this URL:\n",
    "https://prodapi.metweb.ie/observations/athenry/today."
   ]
  },
  {
   "cell_type": "markdown",
   "metadata": {},
   "source": [
    "### Procedure\n",
    "- Navigated to the data/weather folder using the cd command\n",
    "- The web get request (wget) and its output logfile (-O) commands were used to fetch the data from the [URL](https://prodapi.metweb.ie/observations/athenry/today).\n",
    "- This was saved to the file named [weather.json](/workspaces/computer_infrastructure/data/weather/weather.json). \n"
   ]
  },
  {
   "cell_type": "markdown",
   "metadata": {},
   "source": [
    "### Weather data Command line Snippets\n",
    "- The weather data file log can be viewed [here]()."
   ]
  },
  {
   "cell_type": "markdown",
   "metadata": {},
   "source": [
    "## Task 6: Timestamp the Data\n",
    "Modify the command from Task 5 to save the downloaded file with a timestamped name in the format YYYYmmdd_HHMMSS.json."
   ]
  },
  {
   "cell_type": "markdown",
   "metadata": {},
   "source": [
    "### Procedure\n",
    "- Navigated to the data/weather folder using the cd command\n",
    "- The web get request (wget) and its output logfile (-O) commands were used to fetch the data from the [URL](https://prodapi.metweb.ie/observations/athenry/today).\n",
    "- This was saved using the date timestamp command to the file [20241128_111410.json](/workspaces/computer_infrastructure/data/weather/20241128_111410.json). \n"
   ]
  },
  {
   "cell_type": "markdown",
   "metadata": {},
   "source": [
    "### Timestamped weather data Command line Snippets\n",
    "- The timestamped weather data file log can be viewed [here]()."
   ]
  },
  {
   "cell_type": "markdown",
   "metadata": {},
   "source": [
    "## Task 7: Write the Script\n",
    "Write a bash script called weather.sh in the root of your repository. This script should automate the process from Task 6, saving the weather data to the data/weather directory. Make the script executable and test it by running it."
   ]
  },
  {
   "cell_type": "markdown",
   "metadata": {},
   "source": [
    "### Procedure\n",
    "- Used the touch command to create a bash script [weather.sh](/workspaces/computer_infrastructure/weather.sh) in the root of my repository\n",
    "- This file started with a bash script command\n",
    "- Echo command was used to print the defined messages before and after executing the script\n",
    "- The web get request (wget) and its output logfile (-O) commands were used to fetch the data from the [URL](https://prodapi.metweb.ie/observations/athenry/today).\n",
    "- The file was redirected for saving using date timestamp command to the [weather subdirectory](//workspaces/computer_infrastructure/data/weather). \n",
    "- The script was run on the command line using the file location ./weather.sh which displayed permission denied\n",
    "- The property was displayed using the ls -al command\n",
    "- The script permission for the current user was changed by running the change mode, user nd excutable command (chmod u+x ./weather.sh)\n",
    "- The ls -al command was used to display the new permission for the weather.sh script which changed to read, write and executabe for current user\n",
    "- Running the ./weather.sh script now gave the expected outcome creating a new timestamped json file with the defined echo messages displaying on the screen\n"
   ]
  },
  {
   "cell_type": "markdown",
   "metadata": {},
   "source": [
    "### Weather Bash Script Command line Snippets\n",
    "- The weather bash script file log can be viewed [here]()."
   ]
  },
  {
   "cell_type": "markdown",
   "metadata": {},
   "source": []
  },
  {
   "cell_type": "markdown",
   "metadata": {},
   "source": []
  },
  {
   "cell_type": "markdown",
   "metadata": {},
   "source": [
    "## Task 8: Notebook\n",
    "Create a notebook called weather.ipynb at the root of your repository. In this notebook, write a brief report explaining how you completed Tasks 1 to 7. Provide short descriptions of the commands used in each task and explain their role in completing the tasks"
   ]
  },
  {
   "cell_type": "markdown",
   "metadata": {},
   "source": [
    "# Project (40%)\n",
    "In this project, you will automate your weather.sh script to run daily and push the new data to your repository. The following steps will create the necessary GitHub Actions workflow.\n",
    "\n",
    "Create a GitHub Actions Workflow: In your repository, create a folder called .github/workflows/ (if it doesn't already exist). Inside this folder, create a file called weather-data.yml. This file will define the GitHub Actions workflow.\n",
    "\n",
    "Run Daily at 10am: Use the schedule event with cron to set the script to run once a day at 10am. Include also the workflow_dispatch event so you can test the workflow.\n",
    "\n",
    "Use a Linux Virtual Machine In the workflow file, specify that a Ubuntu virtual machine should be used to run the action.\n",
    "\n",
    "Clone the Repository Have the workflow clone your repository.\n",
    "\n",
    "Execute the weather.sh Script Add a step that runs your weather.sh script.\n",
    "\n",
    "Commit and Push Changes Back to the Repository Finally, configure the workflow to commit the new weather data and push those changes back to your repository.\n",
    "\n",
    "Test the Workflow Commit and push the workflow to your repository. Check the logs in GitHub to ensure that the weather.sh script runs correctly, that new data is being committed."
   ]
  },
  {
   "cell_type": "markdown",
   "metadata": {},
   "source": [
    "## Procedure\n",
    "\n",
    "- I created a directory .github with as ubdirectory workflows\n",
    "- i created a file weather_data.yml which contains the github actions workflow\n",
    "- The github actions yml file was enerated with the aid of chat gpt 4.0 detailed prompting\n",
    "- The first execution of the gitaction returned a run error code due to permission restrictions\n",
    "- The yml script was modified to include a gittoken and a read and write permission settings adjustment made on github\n",
    "\n"
   ]
  },
  {
   "cell_type": "markdown",
   "metadata": {},
   "source": [
    "## Analysis of the Weather json file downloaded from met eirean"
   ]
  },
  {
   "cell_type": "code",
   "execution_count": null,
   "metadata": {},
   "outputs": [],
   "source": [
    "# importing dependencies\n",
    "\n",
    "import pandas as pd\n",
    "import matplotlib.pyplot as plt\n",
    "import matplotlib.dates as mdates\n",
    "import seaborn as sns\n",
    "from datetime import datetime\n",
    "import warnings    # importing python warning module\n",
    "sns.set_theme()            #setting seaborn as default style for plots when using matplotlib"
   ]
  },
  {
   "cell_type": "code",
   "execution_count": 1,
   "metadata": {},
   "outputs": [
    {
     "ename": "SyntaxError",
     "evalue": "invalid imaginary literal (3432521342.py, line 2)",
     "output_type": "error",
     "traceback": [
      "\u001b[0;36m  Cell \u001b[0;32mIn[1], line 2\u001b[0;36m\u001b[0m\n\u001b[0;31m    df = pd.read_json(/workspaces/computer_infrastructure/data/weather/20241210_153004.json)\u001b[0m\n\u001b[0m                                                                                       ^\u001b[0m\n\u001b[0;31mSyntaxError\u001b[0m\u001b[0;31m:\u001b[0m invalid imaginary literal\n"
     ]
    }
   ],
   "source": [
    "# Read the data.\n",
    "df = pd.read_json(/workspaces/computer_infrastructure/data/weather/20241210_153004.json)"
   ]
  },
  {
   "cell_type": "markdown",
   "metadata": {},
   "source": []
  },
  {
   "cell_type": "markdown",
   "metadata": {},
   "source": []
  },
  {
   "cell_type": "markdown",
   "metadata": {},
   "source": []
  },
  {
   "cell_type": "markdown",
   "metadata": {},
   "source": [
    "## References\n",
    "- https://docs.github.com/en/actions/writing-workflows/quickstart"
   ]
  }
 ],
 "metadata": {
  "kernelspec": {
   "display_name": "Python 3",
   "language": "python",
   "name": "python3"
  },
  "language_info": {
   "codemirror_mode": {
    "name": "ipython",
    "version": 3
   },
   "file_extension": ".py",
   "mimetype": "text/x-python",
   "name": "python",
   "nbconvert_exporter": "python",
   "pygments_lexer": "ipython3",
   "version": "3.12.1"
  }
 },
 "nbformat": 4,
 "nbformat_minor": 2
}
