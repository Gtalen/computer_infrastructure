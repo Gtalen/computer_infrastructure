{
 "cells": [
  {
   "cell_type": "markdown",
   "metadata": {},
   "source": [
    "# Computer Infrastructure  Module (8645: 2024-2025)\n",
    "# Author: Ebelechukwu Chidimma Igwagu\n",
    "# Tasks and Project\n"
   ]
  },
  {
   "cell_type": "markdown",
   "metadata": {},
   "source": []
  },
  {
   "cell_type": "markdown",
   "metadata": {},
   "source": [
    "## TASKS\n",
    "\n",
    "Create a notebook called [weather.ipynb](https://github.com/Gtalen/computer_infrastructure/blob/main/weather.ipynb) at the root of your repository. In this notebook, write a brief report explaining how you completed Tasks 1 to 7. Provide short descriptions of the commands used in each task and explain their role in completing the tasks"
   ]
  },
  {
   "cell_type": "markdown",
   "metadata": {},
   "source": [
    "### Task 1: Create Directory Structure\n",
    "\n",
    "\n",
    "Using the command line, create a directory (that is, a folder) named data at the root of your repository. Inside data, create two subdirectories: timestamps and weather."
   ]
  },
  {
   "cell_type": "markdown",
   "metadata": {},
   "source": [
    "#### Procedure Involved in Completing the Task\n",
    "\n",
    "- Logged into my github account\n",
    "- Launched codespaces from my computer infrastructure repository on github\n",
    "- Activated a new terminal on VScode\n",
    "- Used the script command to capture the commands run\n",
    "- used the command line prompt makedirectory to create the data directory and 2 subdirectories timestamps and weather\n",
    "- used tree prompt to display the content of the data directory and all its subdirectories"
   ]
  },
  {
   "cell_type": "markdown",
   "metadata": {},
   "source": [
    "#### Command Line Prompt(s) Used and Their Functions in the Task Execution\n",
    "\n",
    "- **Mkdir**: This command in linux means make directory and it was used to create a parent directory *data* with two subdirectories *timestamps* and *weather* in the root of my repository which can be accessed [here](https://github.com/Gtalen/computer_infrastructure/tree/main/data).\n",
    "\n",
    "- **Mkdir -p**: The mkdir command was used with the parents option  -p. This ensured that the specified parent directories were created as needed without an error ouput if the directory already exists.\n",
    "\n",
    "- **Ls**: The list directory contents command was used used to list all the directories in the root repository and subdirectory to confirm that the two new directories were created.\n",
    "\n",
    "- **Cd**: This command stands for change directory and was used to change from the root repostitory to the data and weather directory as specified. \n",
    "\n",
    "- **Tree**: This commmand was used to output the contents of the root directories in a tree-like format."
   ]
  },
  {
   "cell_type": "markdown",
   "metadata": {},
   "source": [
    "#### Task 1 Bash Script Log\n",
    "The script log file for Task 1 can be viewed [here](https://github.com/Gtalen/computer_infrastructure/blob/main/my_work/log_files/crtdir_log.txt)."
   ]
  },
  {
   "cell_type": "markdown",
   "metadata": {},
   "source": [
    "#### Snippets of command line prompts used\n",
    "``` mkdir - p data/timestamps data/weather ```\n",
    "``` Script started on 2024-11-21 03:14:52+00:00 [TERM=\"xterm-256color\" TTY=\"/dev/pts/0\" COLUMNS=\"136\" LINES=\"14\"]\n",
    "\u001b[0;32m@Gtalen \u001b[0m➜ \u001b[1;34m/workspaces/computer_infrastructure \u001b[0;36m(\u001b[1;31mmain\u001b[0;36m) \u001b[0m$ mkdir -p data/timestamps data/weather\n",
    "\u001b[0;32m@Gtalen \u001b[0m➜ \u001b[1;34m/workspaces/computer_infrastructure \u001b[0;36m(\u001b[1;31mmain\u001b[0;36m) \u001b[0m$ ls\n",
    "LICENSE  README.md  crtdir.txt  \u001b[0m\u001b[34;42mdata\u001b[0m  \u001b[34;42mproject\u001b[0m  \u001b[34;42mtasks\u001b[0m\n",
    "\u001b[0;32m@Gtalen \u001b[0m➜ \u001b[1;34m/workspaces/computer_infrastructure \u001b[0;36m(\u001b[1;31mmain\u001b[0;36m) \u001b[0m$ cd data\n",
    "\u001b[0;32m@Gtalen \u001b[0m➜ \u001b[1;34m/workspaces/computer_infrastructure/data \u001b[0;36m(\u001b[1;31mmain\u001b[0;36m) \u001b[0m$ ls\n",
    "\u001b[0m\u001b[34;42mtimestamps\u001b[0m  \u001b[34;42mweather\u001b[0m```"
   ]
  },
  {
   "cell_type": "markdown",
   "metadata": {},
   "source": [
    "#### Data directory and its subfolder\n",
    "\n",
    "``` \u001b[0;32m@Gtalen \u001b[0m➜ \u001b[1;34m/workspaces/computer_infrastructure \u001b[0;36m(\u001b[1;31mmain\u001b[0;36m) \u001b[0m$ tree data\n",
    "\u001b[34;42mdata\u001b[00m\n",
    "├── \u001b[34;42mtimestamps\u001b[00m\n",
    "└── \u001b[34;42mweather\u001b[00m\n",
    "\n",
    "2 directories, 0 files\n",
    "\u001b[0;32m@Gtalen \u001b[0m➜ \u001b[1;34m/workspaces/computer_infrastructure \u001b[0;36m(\u001b[1;31mmain\u001b[0;36m) \u001b[0m$ exit\n",
    "exit ```"
   ]
  },
  {
   "cell_type": "markdown",
   "metadata": {},
   "source": [
    "### Task 2: Timestamps\n",
    "Navigate to the data/timestamps directory. Use the date command to output the current date and time, appending the output to a file named now.txt. Make sure to use the >> operator to append (not overwrite) the file. Repeat this step ten times, then use the more command to verify that now.txt has the expected content."
   ]
  },
  {
   "cell_type": "markdown",
   "metadata": {},
   "source": [
    "#### Procedure Involved in Completing the Task\n",
    "\n",
    "- Navigated to the data/weather folder using the cd command\n",
    "- Used the date command for timestamp\n",
    "- Redirect command was used to save the timestamp to a file named now.txt\n",
    "- This was repeated extra nine times and the content of the text file were displayed using the more command"
   ]
  },
  {
   "cell_type": "markdown",
   "metadata": {},
   "source": [
    "#### Command Line Prompt(s) Used and Their Functions in the Task Execution\n",
    "\n",
    "- **Cd**: This command stands for change directory and was used to change from the root repository to the weather directory. \n",
    "\n",
    "- **Date**: This was used to display the current time.\n",
    "\n",
    "- **Redirect**: This command is represented with *>>* was used to send and store the date output to the text file [now.txt](https://github.com/Gtalen/computer_infrastructure/blob/main/data/timestamps/now.txt) instead of displaying the output on the screen.\n",
    "\n",
    "- **More**:  This was used to view the output of the text file now"
   ]
  },
  {
   "cell_type": "markdown",
   "metadata": {},
   "source": [
    "#### Task 2 Timestamp Bash Script Log\n",
    "\n",
    "- The timestamp log file can be viewed [here](https://github.com/Gtalen/computer_infrastructure/blob/main/my_work/log_files/timestamps_log.txt)."
   ]
  },
  {
   "cell_type": "markdown",
   "metadata": {},
   "source": [
    "### Task 3: Formatting Timestamps\n",
    "Run the date command again, but this time format the output using YYYYmmdd_HHMMSS (e.g., 20261114_130003 for 1:00:03 PM on November 14, 2026). Refer to the date man page (using man date) for more formatting options. (Press q to exit the man page). Append the formatted output to a file named formatted.txt."
   ]
  },
  {
   "cell_type": "markdown",
   "metadata": {},
   "source": [
    "#### Procedure Involved in Completing the Task\n",
    "\n",
    "- Navigated to the data/timestamps folder using the cd command\n",
    "- Used the date plus the formatting command for timestamp\n",
    "- This was saved to the file named [formatted.txt](https://github.com/Gtalen/computer_infrastructure/blob/main/data/timestamps/formatted.txt) using the redirect command\n",
    "- This was repeated extra nine times and the content of the formatted text file was displayed with the more command"
   ]
  },
  {
   "cell_type": "markdown",
   "metadata": {},
   "source": [
    "#### Command Line Prompt(s) Used and Their Functions in the Task Execution\n",
    "\n",
    "- **Cd**: This command stands for change directory and was used to change from the root repository to the weather directory. \n",
    "\n",
    "- **Date**: This was used alongside the date format to timestamp the current date and time saving it in the format YYYYmmdd_HHMMSS.\n",
    "\n",
    "- **Redirect**: This command is was used to send and store the timestamped formatted date output to the text file [formatted.txt](https://github.com/Gtalen/computer_infrastructure/blob/main/data/timestamps/formatted.txt).\n",
    "\n",
    "- **More**:  This was used to view the output of the text file."
   ]
  },
  {
   "cell_type": "markdown",
   "metadata": {},
   "source": [
    "#### Task 3 Formatted timestamp  Bash Script Log\n",
    "\n",
    "- The formatted date log file can be viewed [here](https://github.com/Gtalen/computer_infrastructure/blob/main/my_work/log_files/dtformt_log.txt)."
   ]
  },
  {
   "cell_type": "markdown",
   "metadata": {},
   "source": [
    "### Task 4: Create Timestamped Files\n",
    "\n",
    "Use the touch command to create an empty file with a name in the YYYYmmdd_HHMMSS.txt format. You can achieve this by embedding your date command in backticks ` into the touch command. You should no longer use redirection (>>) in this step."
   ]
  },
  {
   "cell_type": "markdown",
   "metadata": {},
   "source": [
    "#### Procedure Involved in Completing the Task\n",
    "- Navigated to the data/timestamps folder using the cd command\n",
    "- The touch, date and the formatting command were used for timestamping the file \n",
    "- The date and format were enclosed with an opening and closing backtick\n",
    "- This was saved to the file named [20241126_163826.txt](../data/timestamps/20241126_163826.txt). \n"
   ]
  },
  {
   "cell_type": "markdown",
   "metadata": {},
   "source": [
    "#### Command Line Prompts Used and Their Functions in the Task Execution\n",
    "\n",
    "- **Touch:** The touch command was used to create an empty file that do not already exist.\n",
    "\n",
    "- **Date**: This empty file was saved using the system timestamped date alongside the defined date format to the file [20241126_163826.txt](https://github.com/Gtalen/computer_infrastructure/blob/main/data/timestamps/20241126_163826.txt)"
   ]
  },
  {
   "cell_type": "markdown",
   "metadata": {},
   "source": [
    "#### Task 4 Empty timestamped  Bash Script Log\n",
    "\n",
    "- The timestamped file log can be viewed [here](https://github.com/Gtalen/computer_infrastructure/blob/main/my_work/log_files/tstampfile_log.txt)."
   ]
  },
  {
   "cell_type": "markdown",
   "metadata": {},
   "source": [
    "### Task 5: Download Today's Weather Data\n",
    "Change to the data/weather directory. Download the latest weather data for the Athenry weather station from Met Eireann using wget. Use the -O <filename> option to save the file as weather.json. The data can be found at this URL:\n",
    "https://prodapi.metweb.ie/observations/athenry/today."
   ]
  },
  {
   "cell_type": "markdown",
   "metadata": {},
   "source": [
    "#### Procedure Involved in Completing the Task\n",
    "\n",
    "- Changed to the data/weather folder using the cd command\n",
    "- The web get request (wget) and its output logfile (-O) commands were used to fetch the data from the [URL](https://prodapi.metweb.ie/observations/athenry/today).\n",
    "- This was saved to the file named [weather.json](https://github.com/Gtalen/computer_infrastructure/blob/main/data/weather/weather.json). \n"
   ]
  },
  {
   "cell_type": "markdown",
   "metadata": {},
   "source": [
    "#### Command Line Prompts Used and Their Functions in the Task Execution\n",
    "\n",
    "- **Wget:** The The non-interactive network downloader *web get request* command was used to download the file from the web by specifying the file universal resource locator.\n",
    "\n",
    "- **Wget -O:** Thee wget was used with its output option to direct the download output file to [weather.json](https://github.com/Gtalen/computer_infrastructure/blob/main/data/weather/weather.json). \n",
    "\n"
   ]
  },
  {
   "cell_type": "markdown",
   "metadata": {},
   "source": [
    "#### Task 5 Weather data Bash Script Log\n",
    "\n",
    "- The weather data file log can be viewed [here](https://github.com/Gtalen/computer_infrastructure/blob/main/my_work/log_files/weather_log.txt)."
   ]
  },
  {
   "cell_type": "markdown",
   "metadata": {},
   "source": [
    "### Task 6: Timestamp the Data\n",
    "Modify the command from Task 5 to save the downloaded file with a timestamped name in the format YYYYmmdd_HHMMSS.json."
   ]
  },
  {
   "cell_type": "markdown",
   "metadata": {},
   "source": [
    "#### Procedure Involved in Completing the Task\n",
    "\n",
    "- Navigated to the data/weather folder using the cd command\n",
    "- The web get request (wget) and its output logfile (-O) commands were used to fetch the data from the [URL](https://prodapi.metweb.ie/observations/athenry/today).\n",
    "- This was saved using the date timestamp command to the file [20241128_111410.json](https://github.com/Gtalen/computer_infrastructure/blob/main/data/weather/20241128_111410.json). \n"
   ]
  },
  {
   "cell_type": "markdown",
   "metadata": {},
   "source": [
    "#### Command Line Prompts Used and Their Functions in the Task Execution\n",
    "\n",
    "- Some of the commands from Tasks 4 and 5 were reused and the functions were outlined above."
   ]
  },
  {
   "cell_type": "markdown",
   "metadata": {},
   "source": [
    "#### Task 6 Timestamped weather data Bash Script Log\n",
    "\n",
    "- The timestamped weather data file log can be viewed [here](https://github.com/Gtalen/computer_infrastructure/blob/main/my_work/log_files/wedatstamp_log.txt_)."
   ]
  },
  {
   "cell_type": "markdown",
   "metadata": {},
   "source": [
    "### Task 7: Write the Script\n",
    "Write a bash script called weather.sh in the root of your repository. This script should automate the process from Task 6, saving the weather data to the data/weather directory. Make the script executable and test it by running it."
   ]
  },
  {
   "cell_type": "markdown",
   "metadata": {},
   "source": [
    "#### Procedure Involved in Completing the Task\n",
    "\n",
    "- Used the touch command to create a bash script [weather.sh](/workspaces/computer_infrastructure/weather.sh) in the root of my repository\n",
    "- The first line in the script started with a shebang(#!) and /usr/bin/bash\n",
    "- Echo command was used to print the defined messages before and after executing the script\n",
    "- The web get request (wget) and its output logfile (-O) commands were used to fetch the data from the [URL](https://prodapi.metweb.ie/observations/athenry/today).\n",
    "- The file was redirected for saving using date timestamp command to the [weather subdirectory](//workspaces/computer_infrastructure/data/weather). \n",
    "- The first attempt at running the script on the command line using the file location ./weather.sh displayed permission denied\n",
    "- The property of weather.sh was viewed on the screen using the ls -al command which showed that it was not an executable script as it only had the read and write permission\n",
    "- The script permission for the current user was changed by running the change mode, user and excutable command (chmod u+x ./weather.sh)\n",
    "- The ls -al command was used to display the new permission for the weather.sh script which changed to read, write and executable for current user\n",
    "- Running the ./weather.sh script now gave the expected outcome creating a new timestamped json file with the defined echo messages displaying on the screen."
   ]
  },
  {
   "cell_type": "markdown",
   "metadata": {},
   "source": [
    "#### Command Line Prompts Used and Their Functions in the Task Execution\n",
    "\n",
    "- Some of the commands from Task 1 - 5 were reused and the functions were outlined above.\n",
    "\n",
    "- - **Ls -al:** The list directory content when used with it -al option outputs the following;\n",
    "\n",
    "  ```-rw-rw-rw-  1 codespace codespace  182 Nov 28 13:44 weather.sh```\n",
    "\n",
    "  - file permissions (-rw- rw-rw--) for owner-group-others\n",
    "  - Link count (1)\n",
    "  - owner name (codespace)\n",
    "  - owner group (codespace)\n",
    "  - file size in bytes (182)\n",
    "  - Last Modified Date and Time) (Nov 28 13:44)\n",
    "  - File Name (weather.sh)\n",
    "\n",
    "- **Shebang:** Shebang is represented with a **#!**. The shebang is the first line in the [weather.sh](https://github.com/Gtalen/computer_infrastructure/blob/main/weather.sh) script. This instructs the system of what platform should be used to execute and interprete the commands [Janssens,2014].  #! /bin/bash - Bash was used for the command execution and interpretation in the [weather.sh](https://github.com/Gtalen/computer_infrastructure/blob/main/weather.sh) script.\n",
    "\n",
    "- **Chmod u+x:**  The change mode command changes the access permissions of the named files for the active user. Using Chmod with the user and executable options converted the weather script permission from read and write only to a read, write and executable format for the current owner while the permission for the owner group and others remained unchanged.\n",
    "\n",
    "  ```-rwxrw-rw-  1 codespace codespace  182 Nov 28 13:44 \u001b[01;32mweather.sh\u001b[0m```\n",
    "\n",
    "   - r = readable\n",
    "   - w = writable\n",
    "   - x = executable\n",
    "\n",
    "This stack exchange [link](https://unix.stackexchange.com/questions/103114/what-do-the-fields-in-ls-al-output-mean) was useful for undertanding the ls -al output"
   ]
  },
  {
   "cell_type": "markdown",
   "metadata": {},
   "source": [
    "#### Task 7 Weather Bash Script Log\n",
    "\n",
    "The weather bash script file log can be viewed [here](https://github.com/Gtalen/computer_infrastructure/blob/main/my_work/log_files/wedascript_log.txt)."
   ]
  },
  {
   "cell_type": "markdown",
   "metadata": {},
   "source": [
    "### Task 9: pandas\n",
    "\n",
    "In your weather.ipynb notebook, use the pandas function read_json() to load in any one of the weather data files you have downloaded with your script. Examine and summarize the data. Use the information provided data.gov.ie to write a short explanation of what the data set contains."
   ]
  },
  {
   "cell_type": "markdown",
   "metadata": {},
   "source": [
    "#### Analysis of the Weather json file downloaded from met eirean"
   ]
  },
  {
   "cell_type": "code",
   "execution_count": 1,
   "metadata": {},
   "outputs": [],
   "source": [
    "# importing dependencies\n",
    "\n",
    "import pandas as pd\n",
    "import matplotlib.pyplot as plt\n",
    "import matplotlib.dates as mdates\n",
    "import seaborn as sns\n",
    "from datetime import datetime\n",
    "import warnings    # importing python warning module\n",
    "sns.set_theme()            #setting seaborn as default style for plots when using matplotlib"
   ]
  },
  {
   "cell_type": "code",
   "execution_count": 2,
   "metadata": {},
   "outputs": [],
   "source": [
    "# Read the data.\n",
    "\n",
    "filepath = \"data/weather/20241211_102245.json\"\n",
    "df = pd.read_json(filepath)"
   ]
  },
  {
   "cell_type": "code",
   "execution_count": 3,
   "metadata": {},
   "outputs": [
    {
     "data": {
      "text/html": [
       "<div>\n",
       "<style scoped>\n",
       "    .dataframe tbody tr th:only-of-type {\n",
       "        vertical-align: middle;\n",
       "    }\n",
       "\n",
       "    .dataframe tbody tr th {\n",
       "        vertical-align: top;\n",
       "    }\n",
       "\n",
       "    .dataframe thead th {\n",
       "        text-align: right;\n",
       "    }\n",
       "</style>\n",
       "<table border=\"1\" class=\"dataframe\">\n",
       "  <thead>\n",
       "    <tr style=\"text-align: right;\">\n",
       "      <th></th>\n",
       "      <th>name</th>\n",
       "      <th>temperature</th>\n",
       "      <th>symbol</th>\n",
       "      <th>weatherDescription</th>\n",
       "      <th>text</th>\n",
       "      <th>windSpeed</th>\n",
       "      <th>windGust</th>\n",
       "      <th>cardinalWindDirection</th>\n",
       "      <th>windDirection</th>\n",
       "      <th>humidity</th>\n",
       "      <th>rainfall</th>\n",
       "      <th>pressure</th>\n",
       "      <th>dayName</th>\n",
       "      <th>date</th>\n",
       "      <th>reportTime</th>\n",
       "    </tr>\n",
       "  </thead>\n",
       "  <tbody>\n",
       "    <tr>\n",
       "      <th>0</th>\n",
       "      <td>Athenry</td>\n",
       "      <td>3</td>\n",
       "      <td>04n</td>\n",
       "      <td>Cloudy</td>\n",
       "      <td>\"Cloudy\"</td>\n",
       "      <td>6</td>\n",
       "      <td>-</td>\n",
       "      <td>N</td>\n",
       "      <td>0</td>\n",
       "      <td>86</td>\n",
       "      <td>0</td>\n",
       "      <td>1038</td>\n",
       "      <td>Wednesday</td>\n",
       "      <td>2024-11-12</td>\n",
       "      <td>00:00</td>\n",
       "    </tr>\n",
       "    <tr>\n",
       "      <th>1</th>\n",
       "      <td>Athenry</td>\n",
       "      <td>3</td>\n",
       "      <td>04n</td>\n",
       "      <td>Cloudy</td>\n",
       "      <td>\"Cloudy\"</td>\n",
       "      <td>7</td>\n",
       "      <td>-</td>\n",
       "      <td>N</td>\n",
       "      <td>0</td>\n",
       "      <td>85</td>\n",
       "      <td>0</td>\n",
       "      <td>1037</td>\n",
       "      <td>Wednesday</td>\n",
       "      <td>2024-11-12</td>\n",
       "      <td>01:00</td>\n",
       "    </tr>\n",
       "    <tr>\n",
       "      <th>2</th>\n",
       "      <td>Athenry</td>\n",
       "      <td>3</td>\n",
       "      <td>04n</td>\n",
       "      <td>Cloudy</td>\n",
       "      <td>\"Cloudy\"</td>\n",
       "      <td>6</td>\n",
       "      <td>-</td>\n",
       "      <td>NE</td>\n",
       "      <td>45</td>\n",
       "      <td>86</td>\n",
       "      <td>0</td>\n",
       "      <td>1037</td>\n",
       "      <td>Wednesday</td>\n",
       "      <td>2024-11-12</td>\n",
       "      <td>02:00</td>\n",
       "    </tr>\n",
       "    <tr>\n",
       "      <th>3</th>\n",
       "      <td>Athenry</td>\n",
       "      <td>3</td>\n",
       "      <td>04n</td>\n",
       "      <td>Cloudy</td>\n",
       "      <td>\"Cloudy\"</td>\n",
       "      <td>6</td>\n",
       "      <td>-</td>\n",
       "      <td>NE</td>\n",
       "      <td>45</td>\n",
       "      <td>87</td>\n",
       "      <td>0</td>\n",
       "      <td>1037</td>\n",
       "      <td>Wednesday</td>\n",
       "      <td>2024-11-12</td>\n",
       "      <td>03:00</td>\n",
       "    </tr>\n",
       "    <tr>\n",
       "      <th>4</th>\n",
       "      <td>Athenry</td>\n",
       "      <td>2</td>\n",
       "      <td>04n</td>\n",
       "      <td>Cloudy</td>\n",
       "      <td>\"Cloudy\"</td>\n",
       "      <td>6</td>\n",
       "      <td>-</td>\n",
       "      <td>NE</td>\n",
       "      <td>45</td>\n",
       "      <td>89</td>\n",
       "      <td>0</td>\n",
       "      <td>1036</td>\n",
       "      <td>Wednesday</td>\n",
       "      <td>2024-11-12</td>\n",
       "      <td>04:00</td>\n",
       "    </tr>\n",
       "  </tbody>\n",
       "</table>\n",
       "</div>"
      ],
      "text/plain": [
       "      name  temperature symbol weatherDescription      text  windSpeed  \\\n",
       "0  Athenry            3    04n             Cloudy  \"Cloudy\"          6   \n",
       "1  Athenry            3    04n             Cloudy  \"Cloudy\"          7   \n",
       "2  Athenry            3    04n             Cloudy  \"Cloudy\"          6   \n",
       "3  Athenry            3    04n             Cloudy  \"Cloudy\"          6   \n",
       "4  Athenry            2    04n             Cloudy  \"Cloudy\"          6   \n",
       "\n",
       "  windGust cardinalWindDirection  windDirection  humidity  rainfall  pressure  \\\n",
       "0        -                     N              0        86         0      1038   \n",
       "1        -                     N              0        85         0      1037   \n",
       "2        -                    NE             45        86         0      1037   \n",
       "3        -                    NE             45        87         0      1037   \n",
       "4        -                    NE             45        89         0      1036   \n",
       "\n",
       "     dayName       date reportTime  \n",
       "0  Wednesday 2024-11-12      00:00  \n",
       "1  Wednesday 2024-11-12      01:00  \n",
       "2  Wednesday 2024-11-12      02:00  \n",
       "3  Wednesday 2024-11-12      03:00  \n",
       "4  Wednesday 2024-11-12      04:00  "
      ]
     },
     "execution_count": 3,
     "metadata": {},
     "output_type": "execute_result"
    }
   ],
   "source": [
    "df.head(5)"
   ]
  },
  {
   "cell_type": "code",
   "execution_count": 4,
   "metadata": {},
   "outputs": [
    {
     "name": "stdout",
     "output_type": "stream",
     "text": [
      "<class 'pandas.core.frame.DataFrame'>\n",
      "RangeIndex: 11 entries, 0 to 10\n",
      "Data columns (total 15 columns):\n",
      " #   Column                 Non-Null Count  Dtype         \n",
      "---  ------                 --------------  -----         \n",
      " 0   name                   11 non-null     object        \n",
      " 1   temperature            11 non-null     int64         \n",
      " 2   symbol                 11 non-null     object        \n",
      " 3   weatherDescription     11 non-null     object        \n",
      " 4   text                   11 non-null     object        \n",
      " 5   windSpeed              11 non-null     int64         \n",
      " 6   windGust               11 non-null     object        \n",
      " 7   cardinalWindDirection  11 non-null     object        \n",
      " 8   windDirection          11 non-null     int64         \n",
      " 9   humidity               11 non-null     int64         \n",
      " 10  rainfall               11 non-null     int64         \n",
      " 11  pressure               11 non-null     int64         \n",
      " 12  dayName                11 non-null     object        \n",
      " 13  date                   11 non-null     datetime64[ns]\n",
      " 14  reportTime             11 non-null     object        \n",
      "dtypes: datetime64[ns](1), int64(6), object(8)\n",
      "memory usage: 1.4+ KB\n"
     ]
    }
   ],
   "source": [
    "df.info()"
   ]
  },
  {
   "cell_type": "code",
   "execution_count": 5,
   "metadata": {},
   "outputs": [
    {
     "data": {
      "text/html": [
       "<div>\n",
       "<style scoped>\n",
       "    .dataframe tbody tr th:only-of-type {\n",
       "        vertical-align: middle;\n",
       "    }\n",
       "\n",
       "    .dataframe tbody tr th {\n",
       "        vertical-align: top;\n",
       "    }\n",
       "\n",
       "    .dataframe thead th {\n",
       "        text-align: right;\n",
       "    }\n",
       "</style>\n",
       "<table border=\"1\" class=\"dataframe\">\n",
       "  <thead>\n",
       "    <tr style=\"text-align: right;\">\n",
       "      <th></th>\n",
       "      <th>temperature</th>\n",
       "      <th>windSpeed</th>\n",
       "      <th>windDirection</th>\n",
       "      <th>humidity</th>\n",
       "      <th>rainfall</th>\n",
       "      <th>pressure</th>\n",
       "      <th>date</th>\n",
       "    </tr>\n",
       "  </thead>\n",
       "  <tbody>\n",
       "    <tr>\n",
       "      <th>count</th>\n",
       "      <td>11.000000</td>\n",
       "      <td>11.000000</td>\n",
       "      <td>11.000000</td>\n",
       "      <td>11.000000</td>\n",
       "      <td>11.0</td>\n",
       "      <td>11.000000</td>\n",
       "      <td>11</td>\n",
       "    </tr>\n",
       "    <tr>\n",
       "      <th>mean</th>\n",
       "      <td>3.000000</td>\n",
       "      <td>6.090909</td>\n",
       "      <td>45.000000</td>\n",
       "      <td>85.636364</td>\n",
       "      <td>0.0</td>\n",
       "      <td>1036.727273</td>\n",
       "      <td>2024-11-12 00:00:00</td>\n",
       "    </tr>\n",
       "    <tr>\n",
       "      <th>min</th>\n",
       "      <td>2.000000</td>\n",
       "      <td>2.000000</td>\n",
       "      <td>0.000000</td>\n",
       "      <td>81.000000</td>\n",
       "      <td>0.0</td>\n",
       "      <td>1036.000000</td>\n",
       "      <td>2024-11-12 00:00:00</td>\n",
       "    </tr>\n",
       "    <tr>\n",
       "      <th>25%</th>\n",
       "      <td>3.000000</td>\n",
       "      <td>6.000000</td>\n",
       "      <td>45.000000</td>\n",
       "      <td>84.500000</td>\n",
       "      <td>0.0</td>\n",
       "      <td>1036.000000</td>\n",
       "      <td>2024-11-12 00:00:00</td>\n",
       "    </tr>\n",
       "    <tr>\n",
       "      <th>50%</th>\n",
       "      <td>3.000000</td>\n",
       "      <td>6.000000</td>\n",
       "      <td>45.000000</td>\n",
       "      <td>86.000000</td>\n",
       "      <td>0.0</td>\n",
       "      <td>1037.000000</td>\n",
       "      <td>2024-11-12 00:00:00</td>\n",
       "    </tr>\n",
       "    <tr>\n",
       "      <th>75%</th>\n",
       "      <td>3.000000</td>\n",
       "      <td>6.500000</td>\n",
       "      <td>45.000000</td>\n",
       "      <td>87.000000</td>\n",
       "      <td>0.0</td>\n",
       "      <td>1037.000000</td>\n",
       "      <td>2024-11-12 00:00:00</td>\n",
       "    </tr>\n",
       "    <tr>\n",
       "      <th>max</th>\n",
       "      <td>4.000000</td>\n",
       "      <td>9.000000</td>\n",
       "      <td>90.000000</td>\n",
       "      <td>89.000000</td>\n",
       "      <td>0.0</td>\n",
       "      <td>1038.000000</td>\n",
       "      <td>2024-11-12 00:00:00</td>\n",
       "    </tr>\n",
       "    <tr>\n",
       "      <th>std</th>\n",
       "      <td>0.447214</td>\n",
       "      <td>1.640399</td>\n",
       "      <td>28.460499</td>\n",
       "      <td>2.292280</td>\n",
       "      <td>0.0</td>\n",
       "      <td>0.646670</td>\n",
       "      <td>NaN</td>\n",
       "    </tr>\n",
       "  </tbody>\n",
       "</table>\n",
       "</div>"
      ],
      "text/plain": [
       "       temperature  windSpeed  windDirection   humidity  rainfall  \\\n",
       "count    11.000000  11.000000      11.000000  11.000000      11.0   \n",
       "mean      3.000000   6.090909      45.000000  85.636364       0.0   \n",
       "min       2.000000   2.000000       0.000000  81.000000       0.0   \n",
       "25%       3.000000   6.000000      45.000000  84.500000       0.0   \n",
       "50%       3.000000   6.000000      45.000000  86.000000       0.0   \n",
       "75%       3.000000   6.500000      45.000000  87.000000       0.0   \n",
       "max       4.000000   9.000000      90.000000  89.000000       0.0   \n",
       "std       0.447214   1.640399      28.460499   2.292280       0.0   \n",
       "\n",
       "          pressure                 date  \n",
       "count    11.000000                   11  \n",
       "mean   1036.727273  2024-11-12 00:00:00  \n",
       "min    1036.000000  2024-11-12 00:00:00  \n",
       "25%    1036.000000  2024-11-12 00:00:00  \n",
       "50%    1037.000000  2024-11-12 00:00:00  \n",
       "75%    1037.000000  2024-11-12 00:00:00  \n",
       "max    1038.000000  2024-11-12 00:00:00  \n",
       "std       0.646670                  NaN  "
      ]
     },
     "execution_count": 5,
     "metadata": {},
     "output_type": "execute_result"
    }
   ],
   "source": [
    "df.describe()"
   ]
  },
  {
   "cell_type": "markdown",
   "metadata": {},
   "source": []
  },
  {
   "cell_type": "markdown",
   "metadata": {},
   "source": [
    "## PROJECT\n",
    "\n",
    "In this project, you will automate your weather.sh script to run daily and push the new data to your repository."
   ]
  },
  {
   "cell_type": "markdown",
   "metadata": {},
   "source": [
    "### Project Procedure\n",
    "\n",
    "1. Workflow File Creation\n",
    "  - I created a *.github* directory, followed by a *workflows* subdirectory to house the GitHub Actions workflow file.\n",
    "  - The workflow file, [weather_data.yml](https://github.com/Gtalen/computer_infrastructure/blob/main/.github/workflows/weather_data.yml), was used to define the automation process.\n",
    "  - Resources for creating the workflow included GitHub Actions documentation, crontab tutorials, and detailed prompting from ChatGPT-4.\n",
    "\n",
    "2. Workflow Definition\n",
    "  - The script is set to execute at 10 AM daily.\n",
    "  - It runs on the latest Ubuntu version, ensuring compatibility with the script.\n",
    "  - The workflow includes a git repository checkout step.\n",
    "  - A workflow_dispatch trigger is added to allow for manual initiation and testing.\n",
    "  - The chmod step ensures the script has executable permissions.\n",
    "  - The script then executes the [weather.sh](https://github.com/Gtalen/computer_infrastructure/blob/main/weather.sh) file updating the weather data.\n",
    "  - Finally, the script commits and pushes changes to the repository in the [weather directory](https://github.com/Gtalen/computer_infrastructure/tree/main/data/weather).\n",
    "\n",
    "3. Initial Testing and Error Handling\n",
    "  - The first execution encountered an error related to permission restrictions.\n",
    "\n",
    "4. Modifications and Further Testing\n",
    "  - The workflow YAML file was updated to include a GitHub token for authentication.\n",
    "  - Permissions on my GitHub account were adjusted to allow the script to commit and push changes.\n",
    "  - After these modifications, testing was successful, and the automation runs smoothly."
   ]
  },
  {
   "cell_type": "markdown",
   "metadata": {},
   "source": [
    "## References\n",
    "\n",
    "- https://linuxize.com/post/how-to-create-directories-in-linux-with-the-mkdir-command/\n",
    "- https://linuxconfig.org/mkdir\n",
    "- GNU Project, n.d., Unix manual pages, accessed using the `man` command.\n",
    "- Das, K. (2021) Linux command line for you and me. https://www.dbooks.org.\n",
    "- Shotts, W., Jr. and LinuxCommand.org (2019) The Linux command line. Fifth Internet Edition. No Starch Press. http://linuxcommand.org.\n",
    "- https://www.geeksforgeeks.org/wget-command-in-linux-unix/\n",
    "- Janssens, J. (2014) Data science at the command line. Chapter 4: Creating Reusable Command-Line Tools O’Reilly Media, Inc. http://safaribooksonline.com.\n",
    "- https://www.gnu.org/software/coreutils/manual/html_node/chmod-invocation.html#chmod-invocation\n",
    "- https://unix.stackexchange.com/questions/103114/what-do-the-fields-in-ls-al-output-mean\n",
    "- https://docs.github.com/en/actions/writing-workflows/quickstart\n",
    "- https://data.gov.ie/dataset/todays-weather-athenry\n",
    "- https://cronitor.io/guides/cron-jobs?utm_source=crontabguru&utm_campaign=cron_reference&utm_content=39"
   ]
  }
 ],
 "metadata": {
  "kernelspec": {
   "display_name": "Python 3",
   "language": "python",
   "name": "python3"
  },
  "language_info": {
   "codemirror_mode": {
    "name": "ipython",
    "version": 3
   },
   "file_extension": ".py",
   "mimetype": "text/x-python",
   "name": "python",
   "nbconvert_exporter": "python",
   "pygments_lexer": "ipython3",
   "version": "3.12.1"
  }
 },
 "nbformat": 4,
 "nbformat_minor": 2
}
