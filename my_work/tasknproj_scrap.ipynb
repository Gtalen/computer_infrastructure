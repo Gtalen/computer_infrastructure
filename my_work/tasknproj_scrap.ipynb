{
 "cells": [
  {
   "cell_type": "markdown",
   "metadata": {},
   "source": [
    "sns.histplot(df['temperature'], kde=True)\n",
    "plt.show()\n"
   ]
  },
  {
   "cell_type": "markdown",
   "metadata": {},
   "source": [
    "sns.relplot(data=df, x='temperature', y='pressure')"
   ]
  },
  {
   "cell_type": "markdown",
   "metadata": {},
   "source": [
    "sns.scatterplot(x='temperature', y='humidity', data=df)\n",
    "plt.show()\n"
   ]
  },
  {
   "cell_type": "markdown",
   "metadata": {},
   "source": [
    "numeric_data = df[['temperature', 'windSpeed', 'windDirection', 'humidity', 'pressure', 'rainfall']]\n",
    "sns.pairplot(numeric_data)\n",
    "plt.show()\n"
   ]
  },
  {
   "cell_type": "markdown",
   "metadata": {},
   "source": [
    "1. Workflow files Creation\n",
    "- I started by creating a directory *.github* with a subdirectory *workflows*\n",
    "- Subsequently, I created a file [weather_data.yml](https://github.com/Gtalen/computer_infrastructure/blob/main/.github/workflows/weather_data.yml) which contains the github actions workflow\n",
    "- The github actions yml file was generated utilizing resources from github actions documentation, crontab gurus and chat gpt 4.0 detailed prompting.\n",
    "\n",
    "2. Workflow Definition\n",
    "    - The automated weather script  was set up to run by 10am daily\n",
    "    - The script runs on the latest version of Ubuntu.\n",
    "    - A git repository checkout step was included\n",
    "    - workflow_dispatch was included to allow for manual trigger and testing of the git action\n",
    "    - The change mode command step was included to ensure the script is execuatble\n",
    "    - Execution of the [weather.sh](https://github.com/Gtalen/computer_infrastructure/blob/main/weather.sh) script\n",
    "    - Commit and push changes back to my repository in the [weather directory](https://github.com/Gtalen/computer_infrastructure/tree/main/data/weather).\n",
    "\n",
    "3. Script testing  using workflow dispatch in git actions\n",
    "- The first execution of the git action returned a run error code due to permission restrictions.\n",
    "\n",
    "4. Modifications and further testing\n",
    "- The yml script was modified to include a gittoken. \n",
    "- Futhermore, a read and write permission settings adjustment was made on my github account to enable the script to commit and pull changes to my repository.\n",
    "- Post-modification testing was successful.\n",
    "\n",
    "\n"
   ]
  }
 ],
 "metadata": {
  "language_info": {
   "name": "python"
  }
 },
 "nbformat": 4,
 "nbformat_minor": 2
}
