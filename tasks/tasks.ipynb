{
 "cells": [
  {
   "cell_type": "markdown",
   "metadata": {},
   "source": [
    "# Computer Infrastructcture Tasks\n",
    "## Author: Ebelechukwu Chidimma Igwagu"
   ]
  },
  {
   "cell_type": "markdown",
   "metadata": {},
   "source": [
    "## Task 1: Create Directory Structure\n",
    "\n",
    "\n",
    "Using the command line, create a directory (that is, a folder) named data at the root of your repository. Inside data, create two subdirectories: timestamps and weather."
   ]
  },
  {
   "cell_type": "markdown",
   "metadata": {},
   "source": [
    "### Procedural steps\n",
    "- Logged into my github account\n",
    "- Launched codespaces from my computer infrastructure repository on github\n",
    "- Activated a new terminal on VScode\n",
    "- Used the script command to capture the commands run\n",
    "- used the command line prompt makedirectory to create the data directory and 2 subdirectories timestamps and weather\n",
    "- used tree prompt to display the data directory and all its subdirectories"
   ]
  },
  {
   "cell_type": "markdown",
   "metadata": {},
   "source": [
    "### Command line prompt for creating directory \n",
    "\n",
    "``` mkdir - p data/timestamps data/weather ```\n"
   ]
  },
  {
   "cell_type": "markdown",
   "metadata": {},
   "source": [
    "### Snippets of command line prompts used\n",
    "\n",
    "``` Script started on 2024-11-21 03:14:52+00:00 [TERM=\"xterm-256color\" TTY=\"/dev/pts/0\" COLUMNS=\"136\" LINES=\"14\"]\n",
    "\u001b[0;32m@Gtalen \u001b[0m➜ \u001b[1;34m/workspaces/computer_infrastructure \u001b[0;36m(\u001b[1;31mmain\u001b[0;36m) \u001b[0m$ mkdir -p data/timestamps data/weather\n",
    "\u001b[0;32m@Gtalen \u001b[0m➜ \u001b[1;34m/workspaces/computer_infrastructure \u001b[0;36m(\u001b[1;31mmain\u001b[0;36m) \u001b[0m$ ls\n",
    "LICENSE  README.md  crtdir.txt  \u001b[0m\u001b[34;42mdata\u001b[0m  \u001b[34;42mproject\u001b[0m  \u001b[34;42mtasks\u001b[0m\n",
    "\u001b[0;32m@Gtalen \u001b[0m➜ \u001b[1;34m/workspaces/computer_infrastructure \u001b[0;36m(\u001b[1;31mmain\u001b[0;36m) \u001b[0m$ cd data\n",
    "\u001b[0;32m@Gtalen \u001b[0m➜ \u001b[1;34m/workspaces/computer_infrastructure/data \u001b[0;36m(\u001b[1;31mmain\u001b[0;36m) \u001b[0m$ ls\n",
    "\u001b[0m\u001b[34;42mtimestamps\u001b[0m  \u001b[34;42mweather\u001b[0m```"
   ]
  },
  {
   "cell_type": "markdown",
   "metadata": {},
   "source": [
    "### Data directory and its subfolder\n",
    "\n",
    "``` \u001b[0;32m@Gtalen \u001b[0m➜ \u001b[1;34m/workspaces/computer_infrastructure \u001b[0;36m(\u001b[1;31mmain\u001b[0;36m) \u001b[0m$ tree data\n",
    "\u001b[34;42mdata\u001b[00m\n",
    "├── \u001b[34;42mtimestamps\u001b[00m\n",
    "└── \u001b[34;42mweather\u001b[00m\n",
    "\n",
    "2 directories, 0 files\n",
    "\u001b[0;32m@Gtalen \u001b[0m➜ \u001b[1;34m/workspaces/computer_infrastructure \u001b[0;36m(\u001b[1;31mmain\u001b[0;36m) \u001b[0m$ exit\n",
    "exit ```"
   ]
  },
  {
   "cell_type": "markdown",
   "metadata": {},
   "source": [
    "### Task 1 Script\n",
    "The script log file for Task 1 can be viewed [here](https://glorious-space-engine-jrrvj9x5gvjfp796.github.dev/).\n"
   ]
  },
  {
   "cell_type": "markdown",
   "metadata": {},
   "source": [
    "## Task 2: Timestamps\n",
    "Navigate to the data/timestamps directory. Use the date command to output the current date and time, appending the output to a file named now.txt. Make sure to use the >> operator to append (not overwrite) the file. Repeat this step ten times, then use the more command to verify that now.txt has the expected content."
   ]
  },
  {
   "cell_type": "markdown",
   "metadata": {},
   "source": [
    "### Procedure\n",
    "- Navigated to the data/weather folder using the cd command\n",
    "- used the date command for timestamp\n",
    "- Redirect command was used to save the timestamp to a file named now.txt\n",
    "- This was repeated extra nine times and the content of the text file shown with more"
   ]
  },
  {
   "cell_type": "markdown",
   "metadata": {},
   "source": [
    "### Timestamp Command line Snippets\n",
    "- The timestamp log file can be viewed [here]()."
   ]
  },
  {
   "cell_type": "markdown",
   "metadata": {},
   "source": [
    "### Task 3: Formatting Timestamps\n",
    "Run the date command again, but this time format the output using YYYYmmdd_HHMMSS (e.g., 20261114_130003 for 1:00:03 PM on November 14, 2026). Refer to the date man page (using man date) for more formatting options. (Press q to exit the man page). Append the formatted output to a file named formatted.txt."
   ]
  },
  {
   "cell_type": "markdown",
   "metadata": {},
   "source": [
    "### Procedure\n",
    "- Navigated to the data/weather folder using the cd command\n",
    "- used the date plus the formatting command for timestamp\n",
    "- This was saved to the file named [formatted.txt](/workspaces/computer_infrastructure/data/timestamps/formatted.txt) using the redirect command\n",
    "- This was repeated extra nine times and the content of the formatted text file swas displayed with the more command"
   ]
  },
  {
   "cell_type": "markdown",
   "metadata": {},
   "source": [
    "### Formatted timestamp Command line Snippets\n",
    "- The formatted date log file can be viewed [here]()."
   ]
  },
  {
   "cell_type": "markdown",
   "metadata": {},
   "source": [
    "## Task 4: Create Timestamped Files\n",
    "Use the touch command to create an empty file with a name in the YYYYmmdd_HHMMSS.txt format. You can achieve this by embedding your date command in backticks ` into the touch command. You should no longer use redirection (>>) in this step."
   ]
  },
  {
   "cell_type": "markdown",
   "metadata": {},
   "source": [
    "### Procedure\n",
    "- Navigated to the data/weather folder using the cd command\n",
    "- The touch, date and the formatting command were used for timestamping a file \n",
    "- The date and format were enclosed with an opening and closing backtick\n",
    "- This was saved to the file named [20241126_163826.txt](../data/timestamps/20241126_163826.txt). \n"
   ]
  },
  {
   "cell_type": "markdown",
   "metadata": {},
   "source": [
    "### Empty timestamped Command line Snippets\n",
    "- The timestamped file log can be viewed [here]()."
   ]
  }
 ],
 "metadata": {
  "kernelspec": {
   "display_name": "Python 3",
   "language": "python",
   "name": "python3"
  },
  "language_info": {
   "codemirror_mode": {
    "name": "ipython",
    "version": 3
   },
   "file_extension": ".py",
   "mimetype": "text/x-python",
   "name": "python",
   "nbconvert_exporter": "python",
   "pygments_lexer": "ipython3",
   "version": "3.12.1"
  }
 },
 "nbformat": 4,
 "nbformat_minor": 2
}
