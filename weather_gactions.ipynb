{
 "cells": [
  {
   "cell_type": "markdown",
   "metadata": {},
   "source": [
    "# Project (40%)\n",
    "In this project, you will automate your weather.sh script to run daily and push the new data to your repository. The following steps will create the necessary GitHub Actions workflow.\n",
    "\n",
    "Create a GitHub Actions Workflow: In your repository, create a folder called .github/workflows/ (if it doesn't already exist). Inside this folder, create a file called weather-data.yml. This file will define the GitHub Actions workflow.\n",
    "\n",
    "Run Daily at 10am: Use the schedule event with cron to set the script to run once a day at 10am. Include also the workflow_dispatch event so you can test the workflow.\n",
    "\n",
    "Use a Linux Virtual Machine In the workflow file, specify that a Ubuntu virtual machine should be used to run the action.\n",
    "\n",
    "Clone the Repository Have the workflow clone your repository.\n",
    "\n",
    "Execute the weather.sh Script Add a step that runs your weather.sh script.\n",
    "\n",
    "Commit and Push Changes Back to the Repository Finally, configure the workflow to commit the new weather data and push those changes back to your repository.\n",
    "\n",
    "Test the Workflow Commit and push the workflow to your repository. Check the logs in GitHub to ensure that the weather.sh script runs correctly, that new data is being committed."
   ]
  },
  {
   "cell_type": "markdown",
   "metadata": {},
   "source": [
    "## Procedure\n",
    "\n",
    "- I created a directory .github with as ubdirectory workflows\n",
    "- i created a file weather_data.yml which contains the github actions workflow\n"
   ]
  }
 ],
 "metadata": {
  "language_info": {
   "name": "python"
  }
 },
 "nbformat": 4,
 "nbformat_minor": 2
}
